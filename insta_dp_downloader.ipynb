{
  "nbformat": 4,
  "nbformat_minor": 0,
  "metadata": {
    "colab": {
      "name": "insta_dp_downloader",
      "provenance": [],
      "authorship_tag": "ABX9TyMjqz5LnKR2h6lmcdxdINxu",
      "include_colab_link": true
    },
    "kernelspec": {
      "name": "python3",
      "display_name": "Python 3"
    },
    "language_info": {
      "name": "python"
    }
  },
  "cells": [
    {
      "cell_type": "markdown",
      "metadata": {
        "id": "view-in-github",
        "colab_type": "text"
      },
      "source": [
        "<a href=\"https://colab.research.google.com/github/swarnava-96/Python-For-Fun/blob/main/insta_dp_downloader.ipynb\" target=\"_parent\"><img src=\"https://colab.research.google.com/assets/colab-badge.svg\" alt=\"Open In Colab\"/></a>"
      ]
    },
    {
      "cell_type": "code",
      "execution_count": 1,
      "metadata": {
        "colab": {
          "base_uri": "https://localhost:8080/"
        },
        "id": "IC3YxOLGiINM",
        "outputId": "da5e1661-de7f-4476-962d-dc40acdc4977"
      },
      "outputs": [
        {
          "output_type": "stream",
          "name": "stdout",
          "text": [
            "Collecting instaloader\n",
            "  Downloading instaloader-4.8.3.tar.gz (54 kB)\n",
            "\u001b[?25l\r\u001b[K     |██████                          | 10 kB 24.5 MB/s eta 0:00:01\r\u001b[K     |████████████                    | 20 kB 9.4 MB/s eta 0:00:01\r\u001b[K     |██████████████████▏             | 30 kB 7.6 MB/s eta 0:00:01\r\u001b[K     |████████████████████████▏       | 40 kB 7.1 MB/s eta 0:00:01\r\u001b[K     |██████████████████████████████▏ | 51 kB 5.1 MB/s eta 0:00:01\r\u001b[K     |████████████████████████████████| 54 kB 1.6 MB/s \n",
            "\u001b[?25hRequirement already satisfied: requests>=2.4 in /usr/local/lib/python3.7/dist-packages (from instaloader) (2.23.0)\n",
            "Requirement already satisfied: urllib3!=1.25.0,!=1.25.1,<1.26,>=1.21.1 in /usr/local/lib/python3.7/dist-packages (from requests>=2.4->instaloader) (1.24.3)\n",
            "Requirement already satisfied: chardet<4,>=3.0.2 in /usr/local/lib/python3.7/dist-packages (from requests>=2.4->instaloader) (3.0.4)\n",
            "Requirement already satisfied: certifi>=2017.4.17 in /usr/local/lib/python3.7/dist-packages (from requests>=2.4->instaloader) (2021.10.8)\n",
            "Requirement already satisfied: idna<3,>=2.5 in /usr/local/lib/python3.7/dist-packages (from requests>=2.4->instaloader) (2.10)\n",
            "Building wheels for collected packages: instaloader\n",
            "  Building wheel for instaloader (setup.py) ... \u001b[?25l\u001b[?25hdone\n",
            "  Created wheel for instaloader: filename=instaloader-4.8.3-py3-none-any.whl size=58850 sha256=86060d0d5ff635d94ef0e417c4bf728fa79e70fcdb513b06ca5a0f65c5d42417\n",
            "  Stored in directory: /root/.cache/pip/wheels/f6/25/5d/32294d351cda6dd087e1fba27dc95f9002bde4d776b9c3ba02\n",
            "Successfully built instaloader\n",
            "Installing collected packages: instaloader\n",
            "Successfully installed instaloader-4.8.3\n"
          ]
        }
      ],
      "source": [
        "!pip3 install instaloader"
      ]
    },
    {
      "cell_type": "code",
      "source": [
        "import instaloader\n",
        "ig = instaloader.Instaloader()"
      ],
      "metadata": {
        "id": "dRGpdRMCiSTm"
      },
      "execution_count": 4,
      "outputs": []
    },
    {
      "cell_type": "code",
      "source": [
        "dp = input(\"Enter insta handel here: \")\n",
        "ig.download_profile(dp, profile_pic_only=True)"
      ],
      "metadata": {
        "colab": {
          "base_uri": "https://localhost:8080/"
        },
        "id": "pTeoG8YpiXZw",
        "outputId": "2a19116a-6d4a-4b56-8a23-aa489324d92a"
      },
      "execution_count": 7,
      "outputs": [
        {
          "output_type": "stream",
          "name": "stdout",
          "text": [
            "Enter insta handel here: _swarnavamukherjee_\n",
            "_swarnavamukherjee_/2020-08-16_20-27-45_UTC_profile_pic.jpg already exists\n"
          ]
        }
      ]
    }
  ]
}