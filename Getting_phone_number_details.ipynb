{
  "nbformat": 4,
  "nbformat_minor": 0,
  "metadata": {
    "colab": {
      "name": "Getting_phone_number_details",
      "provenance": [],
      "collapsed_sections": [],
      "authorship_tag": "ABX9TyNjkuWY3osT9K+AKJJzUbHy",
      "include_colab_link": true
    },
    "kernelspec": {
      "name": "python3",
      "display_name": "Python 3"
    },
    "language_info": {
      "name": "python"
    }
  },
  "cells": [
    {
      "cell_type": "markdown",
      "metadata": {
        "id": "view-in-github",
        "colab_type": "text"
      },
      "source": [
        "<a href=\"https://colab.research.google.com/github/swarnava-96/Python-For-Fun/blob/main/Getting_phone_number_details.ipynb\" target=\"_parent\"><img src=\"https://colab.research.google.com/assets/colab-badge.svg\" alt=\"Open In Colab\"/></a>"
      ]
    },
    {
      "cell_type": "markdown",
      "source": [
        "# **Getting phone number details using Python**"
      ],
      "metadata": {
        "id": "9BH0RmHfsIsr"
      }
    },
    {
      "cell_type": "code",
      "source": [
        "!pip install phonenumbers"
      ],
      "metadata": {
        "colab": {
          "base_uri": "https://localhost:8080/"
        },
        "id": "uGavqhkKsO3C",
        "outputId": "6da436b1-3b75-4082-f623-7dd71643a210"
      },
      "execution_count": 2,
      "outputs": [
        {
          "output_type": "stream",
          "name": "stdout",
          "text": [
            "Collecting phonenumbers\n",
            "  Downloading phonenumbers-8.12.43-py2.py3-none-any.whl (2.6 MB)\n",
            "\u001b[K     |████████████████████████████████| 2.6 MB 5.0 MB/s \n",
            "\u001b[?25hInstalling collected packages: phonenumbers\n",
            "Successfully installed phonenumbers-8.12.43\n"
          ]
        }
      ]
    },
    {
      "cell_type": "code",
      "source": [
        "# Importing the necessary libraries\n",
        "import phonenumbers\n",
        "from phonenumbers import carrier, geocoder, timezone"
      ],
      "metadata": {
        "id": "Am9foZ6OsWQk"
      },
      "execution_count": 3,
      "outputs": []
    },
    {
      "cell_type": "code",
      "source": [
        "mobileNo = input(\"Enter mobile number with country code: \")\n",
        "mobileNo = phonenumbers.parse(mobileNo)\n",
        "\n",
        "# Getting timezone\n",
        "print(timezone.time_zones_for_number(mobileNo))\n",
        "\n",
        "# Getting carrier\n",
        "print(carrier.name_for_number(mobileNo, \"en\"))\n",
        "\n",
        "# Getting the region information\n",
        "print(geocoder.description_for_number(mobileNo, \"en\"))\n",
        "\n",
        "# Validating a phone number\n",
        "print(\"Valid mobile number: \",phonenumbers.is_valid_number(mobileNo))\n",
        "\n",
        "# Checking the possibility of a number\n",
        "print(\"Checking the possibility of number: \", phonenumbers.is_possible_number(mobileNo))"
      ],
      "metadata": {
        "colab": {
          "base_uri": "https://localhost:8080/"
        },
        "id": "IghdAiORswAK",
        "outputId": "eae60f8f-574c-44eb-edbf-488908730456"
      },
      "execution_count": 7,
      "outputs": [
        {
          "output_type": "stream",
          "name": "stdout",
          "text": [
            "Enter mobile number with country code: +919903409776\n",
            "('Asia/Calcutta',)\n",
            "Airtel\n",
            "India\n",
            "Valid mobile number:  True\n",
            "Checking the possibility of number:  True\n"
          ]
        }
      ]
    }
  ]
}